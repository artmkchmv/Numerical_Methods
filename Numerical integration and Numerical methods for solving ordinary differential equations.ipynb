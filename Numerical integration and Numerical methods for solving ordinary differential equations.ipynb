{
  "cells": [
    {
      "cell_type": "markdown",
      "metadata": {
        "id": "LMez4I9Wqybz"
      },
      "source": [
        "# **Лабораторная работа «Численное интегрирование».**"
      ]
    },
    {
      "cell_type": "code",
      "execution_count": 1,
      "metadata": {
        "id": "xgPQaxhgADNp"
      },
      "outputs": [],
      "source": [
        "import math\n",
        "import numpy as np\n",
        "import pandas as pd\n",
        "import sympy as sm\n",
        "from sympy import *\n",
        "from scipy.integrate import odeint\n",
        "from scipy.integrate import solve_ivp\n",
        "import matplotlib.pyplot as plt\n",
        "from prettytable import PrettyTable\n",
        "import itertools"
      ]
    },
    {
      "cell_type": "markdown",
      "metadata": {
        "id": "mZ5vqJVHAwnS"
      },
      "source": [
        "Дан интеграл: $$\\int_{-0.5}^{0.5} x\\arccos{x}dx$$"
      ]
    },
    {
      "cell_type": "code",
      "execution_count": 2,
      "metadata": {
        "id": "cgFj8gXdn9de"
      },
      "outputs": [],
      "source": [
        "def f(x):\n",
        "  return x * np.arccos(x)\n",
        "\n",
        "x = sm.symbols(\"x\")\n",
        "h = sm.symbols(\"h\")\n",
        "func = x * sm.acos(x)\n",
        "a = -0.5\n",
        "b = 0.5\n",
        "e = 0.001"
      ]
    },
    {
      "cell_type": "markdown",
      "metadata": {
        "id": "NvSrxasoiwI4"
      },
      "source": [
        "Найдите шаг интегрирования $h$ для вычисления интеграла $\\int_a^bf(x)dx$ по формуле трапеций с точностью $ϵ = 0.001.$ Для вычисления шага воспользуйтесь\n",
        "формулой $M\\frac{|b - a|h^2}{12} < ϵ, \\ M = max|f''(x)|, \\  x \\in [a, b].$\n",
        "Указание. Шаг $h$ следует выбирать с учетом дополнительного условия: отрезок интегрирования должен разбиваться на число частей, кратное $4$. Вычисления шага $h$ должны присутствовать в лабораторной работе, в текстовом блоке. Текстовый блок поддерживает Latex-формулы."
      ]
    },
    {
      "cell_type": "markdown",
      "metadata": {
        "id": "LErAwQr9GWfn"
      },
      "source": [
        "Вычислим $M$:\n",
        "$$f(x) = x\\arccos{x}, \\ f'(x) = \\arccos{x} - \\frac{x}{\\sqrt{1-x^2}}, \\ f''(x) = \\frac{x^2 - 2}{(1-x^2)\\sqrt{1-x^2}}$$\n",
        "$$$$\n",
        "$$M = max\\bigg|\\frac{x^2 - 2}{(1-x^2)\\sqrt{1-x^2}}\\bigg| = |-2| = 2, \\ x = 0, \\  x \\in [-0.5, \\ 0.5]$$\n",
        "$$$$\n",
        "Вычислим шаг интегрирования $h$:\n",
        "$$2\\frac{|0.5 - (-0.5)|h^2}{12}< 0.001$$\n",
        "$$$$\n",
        "$$\\frac{h^2}{6} < 0.001$$\n",
        "$$$$\n",
        "$$h^2 < 0.006$$\n",
        "$$$$\n",
        "$$-0.0774597 < h < 0.0774597$$\n"
      ]
    },
    {
      "cell_type": "markdown",
      "metadata": {
        "id": "UQq_YzmvgOrn"
      },
      "source": [
        "Например: $$h = 0.0625, \\ n = \\frac{b-a}{h} = \\frac{0.5 - (-0.5)}{0.0625} = 16$$\n",
        "$$$$\n",
        "Для $h = 0.0625$:\n",
        "$$$$\n",
        "$$a = -0.5, \\ x_1 = -0.4375, \\ x_2 = -0.375, \\ x_3 = -0.3125, \\ x_4 = -0.25, \\ x_5 = -0.1875, \\ x_6 = -0.125 \\ , x_7 = -0.0625, x_8 = 0, \\ x_9 = 0.0625, \\ x_{10} = 0.125, \\ x_{11} = 0.1875, \\ x_{12} = 0.25, \\ x_{13} = 0.3125, x_{14} = 0.375, x_{15} = 0.4375, \\ b = 0.5$$\n",
        "$$$$\n",
        "$$f(a) = -1.0472, \\ f(x_1) = -0.8853, \\ f(x_2) = -0.7332, \\ f(x_3) = -0.5901, \\ f(x_4) = -0.4559, \\ f(x_5) = -0.3299, \\ f(x_6) = -0.2120, \\ f(x_7) = -0.1021, \\ f(x_8) = 0, \\ f(x_9) = 0.0943, \\ f(x_{10}) = 0.1807, \\ f(x_{11}) = 0.2592, \\ f(x_{12}) = 0.3295, \\ f(x_{13}) = 0.3917, \\ f(x_{14}) = 0.4449, \\ f(x_{15}) = 0.4891 \\ f(b) = 0.5236$$\n",
        "$$$$\n",
        "Для $h = 0.125$:\n",
        "$$$$\n",
        "$$a = -0.5, \\ x_1 = -0.375, \\ x_2 = -0.25, \\ x_3 = -0.125, \\ x_4 = 0, \\ x_5 = 0.125, \\ x_6 = 0.25, \\ x_7 = 0.375, \\ b = 0.5$$\n",
        "$$$$\n",
        "$$f(a) = -1.0472, \\ f(x_1) = -0.7332, \\ f(x_2) = -0.4559, \\ f(x_3) = -0.2120 \\ f(x_4) = 0, \\ f(x_5) = 0.1807, \\ f(x_6) = 0.3295, \\ f(x_7) = 0.4449, \\ f(b) = 0.5236$$"
      ]
    },
    {
      "cell_type": "code",
      "execution_count": 3,
      "metadata": {
        "id": "33CNmVqNoAOd"
      },
      "outputs": [],
      "source": [
        "func_der_2 = sm.diff(sm.diff(func, x), x)\n",
        "interval = sm.Interval(a, b)\n",
        "M = sm.maximum(func_der_2, x, interval)\n",
        "inequality = h**2 - (12 * e)/(M * np.abs(b - a)) < 0\n",
        "solution = sm.solve(inequality, x)\n",
        "\n",
        "h_1, n_1 = 0.0625, 16\n",
        "h_2, n_2 = 0.125, 8\n",
        "x_1_values, y_1_values = [], []\n",
        "x_2_values, y_2_values = [], []\n",
        "\n",
        "for i in range(n_1 + 1):\n",
        "  x_1_values.append(a + h_1 * i)\n",
        "  y_1_values.append(f(a + h_1 * i))\n",
        "\n",
        "for i in range(n_2 + 1):\n",
        "  x_2_values.append(a + h_2 * i)\n",
        "  y_2_values.append(f(a + h_2 * i))"
      ]
    },
    {
      "cell_type": "markdown",
      "metadata": {
        "id": "ARaB813fitPM"
      },
      "source": [
        "Вычислите интеграл по формуле трапеций с шагами $2h$ и $h$: $$$$ $$\\int_a^bf(x)dx \\approx h(\\frac{y_o}{2} + y_1 + y_2 + \\ ... \\ + \\frac{y_n}{2}), y_i = f(x_i).$$$$ $$Дайте уточненную оценку погрешности по правилу Рунге: $$Δ \\approx \\frac{1}{3} |I_n - I_{2n}|.$$\n"
      ]
    },
    {
      "cell_type": "code",
      "execution_count": 4,
      "metadata": {
        "colab": {
          "base_uri": "https://localhost:8080/"
        },
        "id": "SX2PrEoFtQ_R",
        "outputId": "79776e93-54e9-49c3-d64c-a82b30380737"
      },
      "outputs": [
        {
          "output_type": "stream",
          "name": "stdout",
          "text": [
            "I_n = -0.08847113175424179\n",
            "I_2n = -0.08632325808943797\n",
            "Delta = 0.0007159578882679393\n"
          ]
        }
      ],
      "source": [
        "trapezoidal_method_result_h_1 = 0\n",
        "trapezoidal_method_result_h_2 = 0\n",
        "\n",
        "for i in range(n_1 + 1):\n",
        "    if ((i == 0) or (i == (n_1))):\n",
        "        trapezoidal_method_result_h_1 += y_1_values[i] / 2\n",
        "    else:\n",
        "        trapezoidal_method_result_h_1 += y_1_values[i]\n",
        "\n",
        "for i in range(n_2 + 1):\n",
        "    if ((i == 0) or (i == (n_2))):\n",
        "        trapezoidal_method_result_h_2 += y_2_values[i] / 2\n",
        "    else:\n",
        "        trapezoidal_method_result_h_2 += y_2_values[i]\n",
        "\n",
        "trapezoidal_method_result_h_1 *= 0.0625\n",
        "trapezoidal_method_result_h_2 *= 0.125\n",
        "\n",
        "delta = np.abs(trapezoidal_method_result_h_1 - trapezoidal_method_result_h_2) / 3\n",
        "\n",
        "print(\"I_n =\", trapezoidal_method_result_h_2)\n",
        "print(\"I_2n =\", trapezoidal_method_result_h_1)\n",
        "print(\"Delta =\", delta)\n"
      ]
    },
    {
      "cell_type": "markdown",
      "metadata": {
        "id": "0kcS__blOAEm"
      },
      "source": [
        "$$I_n = \\int_{-0.5}^{0.5} x\\arccos{x}dx \\approx 0.0625\\bigg(\\frac{-1.0472}{2} - 0.8853 - 0.7332 - 0.5901 - 0.4559 - 0.3299 - 0.2120 - 0.1021 + 0 + 0.0943 + 0.1807 + 0.2592 + 0.3295 + 0.3917 + 0.4449 + 0.4891 + \\frac{0.5236}{2}\\bigg) = -0.086306$$\n",
        "$$$$\n",
        "$$I_{2n} = \\int_{-0.5}^{0.5} x\\arccos{x}dx \\approx 0.125\\bigg(\\frac{-1.0472}{2} - 0.7332 - 0.4559 - 0.2120 + 0 + 0.1807 + 0.3295 + 0.4449 + \\frac{0.5236}{2}\\bigg) = -0.088475$$\n",
        "$$$$\n",
        "$$ Δ \\approx \\frac{1}{3} |-0.086306 - (-0.088475)| = 0.000723$$"
      ]
    },
    {
      "cell_type": "markdown",
      "metadata": {
        "id": "a9vlT7Iwix9y"
      },
      "source": [
        "Вычислите интеграл по формуле Симпсона с шагами $2h$ и $h$: $$$$ $$\\int_a^bf(x)dx \\approx \\frac{h}{3}(y_0 + y_{2m} + 4(y_1 + y_3 + \\ ... \\ + y_{2m-1}) + 2(y_2 + y_4 + \\ ... \\ + y_{2m-2})), \\ y_i = f(x_i).$$\n",
        "$$$$\n",
        "Дайте уточненную оценку погрешности по правилу Рунге для\n",
        "формулы Симпсона: $$Δ \\approx \\frac{1}{15} |I_n - I_{2n}|.$$"
      ]
    },
    {
      "cell_type": "markdown",
      "metadata": {
        "id": "rA9DoOx4M6QJ"
      },
      "source": [
        "$$I_n = \\int_{-0.5}^{0.5} x\\arccos{x}dx \\approx \\frac{0.0625}{3}(-1.0472 + 0.5236 + 4(-0.8853 - 0.5901 - 0.3299 - 0.1021 + 0.0943 + 0.2592 + 0.3917 + 0.4891) + 2(-0.7332 - 0.4559 - 0.2120 + 0 + 0.1807 + 0.3295 + 0.4449)) = -0.085583$$\n",
        "$$$$\n",
        "$$I_{2n} = \\int_{-0.5}^{0.5} x\\arccos{x}dx \\approx \\frac{0.125}{3}(-1.0472 + 0.5236 + 4(-0.7332 - 0.2120 + 0.1807 + 0.4449) + 2(-0.4559 + 0.3295)) = -0.085617$$\n",
        "$$$$\n",
        "$$ Δ \\approx \\frac{1}{15} |-0.085583 - (-0.085617)| = 0.000002267$$"
      ]
    },
    {
      "cell_type": "code",
      "execution_count": 5,
      "metadata": {
        "colab": {
          "base_uri": "https://localhost:8080/"
        },
        "id": "1s9uwdXhmlmb",
        "outputId": "4965f372-43a7-4bcb-c76d-c42ab547a147"
      },
      "outputs": [
        {
          "output_type": "stream",
          "name": "stdout",
          "text": [
            "I_n = -0.08561654939147334\n",
            "I_2n = -0.08560730020117004\n",
            "Delta = 6.166126868869156e-07\n"
          ]
        }
      ],
      "source": [
        "simpson_method_result_h_1 = 0\n",
        "simpson_method_result_h_2 = 0\n",
        "\n",
        "for i in range(n_1 + 1):\n",
        "    if ((i == 0) or (i == (n_1))):\n",
        "        simpson_method_result_h_1 += y_1_values[i]\n",
        "    elif (i % 2 == 0):\n",
        "        simpson_method_result_h_1 += 2 * y_1_values[i]\n",
        "    else:\n",
        "        simpson_method_result_h_1 += 4 * y_1_values[i]\n",
        "\n",
        "for i in range(n_2 + 1):\n",
        "    if ((i == 0) or (i == (n_2))):\n",
        "        simpson_method_result_h_2 += y_2_values[i]\n",
        "    elif (i % 2 == 0):\n",
        "        simpson_method_result_h_2 += 2 * y_2_values[i]\n",
        "    else:\n",
        "        simpson_method_result_h_2 += 4 * y_2_values[i]\n",
        "\n",
        "simpson_method_result_h_1 *= 0.0625 / 3\n",
        "simpson_method_result_h_2 *= 0.125 / 3\n",
        "\n",
        "delta = np.abs(simpson_method_result_h_1 - simpson_method_result_h_2) / 15\n",
        "\n",
        "print(\"I_n =\", simpson_method_result_h_2)\n",
        "print(\"I_2n =\", simpson_method_result_h_1)\n",
        "print(\"Delta =\", delta)"
      ]
    },
    {
      "cell_type": "markdown",
      "metadata": {
        "id": "57LLgGE-iyUh"
      },
      "source": [
        "Найдите значение интеграла с помощью функций Python."
      ]
    },
    {
      "cell_type": "code",
      "execution_count": 6,
      "metadata": {
        "colab": {
          "base_uri": "https://localhost:8080/",
          "height": 37
        },
        "id": "Z899-z-_o6l4",
        "outputId": "eba851ea-ffda-415b-a4d8-70e8477a3a3e"
      },
      "outputs": [
        {
          "output_type": "execute_result",
          "data": {
            "text/plain": [
              "-0.0856066570465349"
            ],
            "text/latex": "$\\displaystyle -0.0856066570465349$"
          },
          "metadata": {},
          "execution_count": 6
        }
      ],
      "source": [
        "x = sm.Symbol('x')\n",
        "f = x * sm.acos(x)\n",
        "integral_value = sm.integrate(f, (x, -0.5, 0.5))\n",
        "integral_value"
      ]
    },
    {
      "cell_type": "markdown",
      "metadata": {
        "id": "gDRWk1nLiyj1"
      },
      "source": [
        "Вычислите определенный интеграл по формуле Ньютона-Лейбница (вычисления\n",
        "должны присутствовать в текстовом блоке). Сравните приближенные значения\n",
        "интеграла с точным. Какая формула численного интегрирования дала более\n",
        "точный результат?\n"
      ]
    },
    {
      "cell_type": "markdown",
      "metadata": {
        "id": "ss2ljPrsp9GT"
      },
      "source": [
        "$$\\int x \\arccos{x} dx = \\bigg|\\displaystyle{_{du \\ = \\ -\\frac{dx}{\\sqrt{1-x^2}}; \\ v \\ = \\ \\frac{x^2}{2}}^{u \\ = \\ \\arccos{x}; \\ dv \\ = \\ xdx}}\\bigg| = \\frac{x^2\\arccos{x}}{2} + \\frac{1}{2}\\int\\frac{x^2dx}{\\sqrt{1-x^2}} \\ (1)$$\n",
        "\n",
        "$$(1): \\int\\frac{x^2dx}{\\sqrt{1-x^2}} = (Ax + B)\\sqrt{1-x^2} + C\\int\\frac{dx}{\\sqrt{1-x^2}}$$\n",
        "$$$$\n",
        "$$ \\bigg(\\int\\frac{x^2dx}{\\sqrt{1-x^2}}\\bigg)' = \\bigg((Ax + B)\\sqrt{1-x^2} + C\\int\\frac{dx}{\\sqrt{1-x^2}}\\bigg)' = A\\,\\sqrt{1-{x}^{2}}-\\dfrac{x\\,\\left(A\\,x+B\\right)}{\\sqrt{1-{x}^{2}}}+\\dfrac{C}{\\sqrt{1-{x}^{2}}}$$\n",
        "$$$$\n",
        "$$\\dfrac{{x}^{2}}{\\sqrt{1-{x}^{2}}}=\\dfrac{-2\\,A\\,{x}^{2}-B\\,x+C+A}{\\sqrt{1-{x}^{2}}}$$\n",
        "$$$$\n",
        "$$\\begin{gathered}\\end{gathered}\\left\\{\\begin{gathered}-2A=1\\\\-B=0\\\\C+A=0\\end{gathered}\\right.=\\left\\{\\begin{gathered}A=-\\dfrac{1}{2}\\\\B=0\\\\C=\\dfrac{1}{2}\\end{gathered}\\right.$$\n",
        "$$$$\n",
        "$$\\int\\frac{x^2dx}{\\sqrt{1-x^2}} = -\\frac{1}{2}x\\sqrt{1-x^2} + \\frac{1}{2}\\int\\frac{dx}{\\sqrt{1-x^2}} = -\\frac{1}{2}x\\sqrt{1-x^2} + \\frac{1}{2}\\arcsin{x}$$\n",
        "$$$$\n",
        "$$\\int x\\arccos{x}dx = \\frac{x^2\\arccos{x}}{2} + \\frac{1}{2}\\bigg(-\\frac{1}{2}x\\sqrt{1-x^2} + \\frac{1}{2}\\arcsin{x}\\bigg) = \\frac{x^2\\arccos{x}}{2} - \\frac{x\\sqrt{1-x^2}}{4} + \\frac{\\arcsin{x}}{4} + C$$\n",
        "$$$$\n",
        "$$\\int_{-0.5}^{0.5}x\\arccos{x}dx = \\bigg(\\frac{x^2\\arccos{x}}{2} - \\frac{x\\sqrt{1-x^2}}{4} + \\frac{\\arcsin{x}}{4}\\bigg)\\bigg|^{0.5}_{-0.5} = \\frac{\\pi}{12} - \\frac{\\sqrt{3}}{16} - \\bigg(\\frac{\\pi}{24} + \\frac{\\sqrt{3}}{16}\\bigg) = \\frac{\\pi}{24} - \\frac{\\sqrt{3}}{8} \\approx -0.0856067$$"
      ]
    },
    {
      "cell_type": "markdown",
      "metadata": {
        "id": "qSHn8Zsfq-m3"
      },
      "source": [
        "# **Лабораторная работа «Численные методы решения обыкновенных дифференциальных уравнений».**"
      ]
    },
    {
      "cell_type": "markdown",
      "metadata": {
        "id": "760pDa4-qPda"
      },
      "source": [
        "Дана задача Коши: $ y' = 0.5(x - 1)e^xy^2 - xy, \\ y(0) = 1$ на отрезке $[0, 2].$\n",
        "\n",
        "\n",
        "\n"
      ]
    },
    {
      "cell_type": "markdown",
      "metadata": {
        "id": "vXF82R3BqtDd"
      },
      "source": [
        "Найдите шаг интегрирования $h$ для решения задачи Коши методом Рунге-Кутта $(IV)$ с точностью $10^{-4}.$"
      ]
    },
    {
      "cell_type": "code",
      "execution_count": 8,
      "metadata": {
        "id": "hPNAPEe147dR"
      },
      "outputs": [],
      "source": [
        "def f(x, y):\n",
        "  return 0.5 * (x - 1) * math.exp(x) * y ** 2 - x * y\n",
        "\n",
        "\n",
        "def runge_kutta(f, x, y, h):\n",
        "  F1 = f(x, y)\n",
        "  F2 = f(x + 0.5 * h, y + 0.5 * h * F1)\n",
        "  F3 = f(x + 0.5 * h, y + 0.5 * h * F2)\n",
        "  F4 = f(x + h, y + h * F3)\n",
        "  return y + h / 6 * (F1 + 2 * F2 + 2 * F3 + F4)\n",
        "\n",
        "\n",
        "def euler(f, x, y, h):\n",
        "   return y + h * f(x, y)\n",
        "\n",
        "\n",
        "def solve(f, xspan, y0, h, method):\n",
        "  x = np.arange(xspan[0], xspan[1] + h, h)\n",
        "  y = np.zeros(len(x))\n",
        "  y[0] = y0\n",
        "\n",
        "  for n in range (len(x) - 1):\n",
        "    y[n + 1] = method(f, x[n], y[n], h)\n",
        "\n",
        "  return x, y\n",
        "\n",
        "\n",
        "def format_x_values(x_values, precision=3):\n",
        "    formatted_values = [f\"{x:.{precision}f}\" for x in x_values]\n",
        "    return formatted_values\n",
        "\n",
        "\n",
        "y0 = 1\n",
        "xspan = [0, 2]\n",
        "h = 0.2\n",
        "\n",
        "x_rk, y_rk = solve(f, xspan, y0, h, runge_kutta)\n",
        "x_rk_tilda, y_rk_tilda = solve(f, xspan, y0, 2 * h, runge_kutta)\n",
        "formatted_x_rk = format_x_values(x_rk, precision=3)\n",
        "\n",
        "y_rk_delta = list(np.diff(y_rk_tilda))\n",
        "\n",
        "for i in range(len(y_rk_delta)):\n",
        "  y_rk_delta[i] = abs(y_rk_delta[i]) / 15\n",
        "\n",
        "for i in range(0, len(y_rk), 2):\n",
        "  y_rk_delta.insert(i, \"\")\n",
        "\n",
        "y_rk_tilda = list(y_rk_tilda)\n",
        "for i in range(1, len(y_rk), 2):\n",
        "  y_rk_tilda.insert(i, \"\")\n",
        "\n",
        "x_eu, y_eu = solve(f, xspan, y0, h, euler)\n",
        "x_eu_tilda, y_eu_tilda = solve(f, xspan, y0, 2 * h, euler)\n",
        "formatted_x_eu = format_x_values(x_eu, precision=1)\n",
        "\n",
        "y_eu_delta = list(np.diff(y_eu_tilda))\n",
        "\n",
        "for i in range(len(y_eu_delta)):\n",
        "  y_eu_delta[i] = abs(y_eu_delta[i])\n",
        "\n",
        "for i in range(0, len(y_eu), 2):\n",
        "  y_eu_delta.insert(i, \"\")\n",
        "\n",
        "y_eu_tilda = list(y_eu_tilda)\n",
        "for i in range(1, len(y_eu), 2):\n",
        "  y_eu_tilda.insert(i, \"\")\n",
        "\n",
        "table_rk = PrettyTable()\n",
        "table_eu = PrettyTable()\n",
        "\n",
        "table_rk.add_column(\"x_rk\", formatted_x_rk)\n",
        "table_rk.add_column(\"y_rk\", y_rk)\n",
        "table_rk.add_column(\"y_rk_tilda\", y_rk_tilda)\n",
        "table_rk.add_column(\"y_rk_delta\", y_rk_delta)\n",
        "\n",
        "table_eu.add_column(\"x_eu\", formatted_x_eu)\n",
        "table_eu.add_column(\"y_eu\", y_eu)\n",
        "table_eu.add_column(\"y_eu_tilda\", y_eu_tilda)\n",
        "table_eu.add_column(\"y_eu_delta\", y_eu_delta)"
      ]
    },
    {
      "cell_type": "markdown",
      "metadata": {
        "id": "i1SB9hLhrac7"
      },
      "source": [
        "Найти решение задачи Коши на отрезке $[a, b]$ методом Рунге-Кутта $(IV)$ с точностью $10^{-4}.$ Построить приближенную интегральную кривую. $$y_{k + 1} = y_k + \\frac{h}{6}(F_1 + 2F_2 + 2F_3 + F_4),$$ $$$$ $$F_1 = f(x_k, y_k), $$ $$$$ $$ F_2 = f(x_k + \\frac{h}{2}, \\ y_k + \\frac{h}{2}F_1),$$ $$$$ $$ F_3 = f(x_k + \\frac{h}{2}, \\ y_k + \\frac{h}{2}F_2),$$ $$$$  $$ F_4 = f(x_{k + 1}, \\ y_k + hF_3).$$"
      ]
    },
    {
      "cell_type": "code",
      "execution_count": 9,
      "metadata": {
        "colab": {
          "base_uri": "https://localhost:8080/",
          "height": 709
        },
        "id": "vqkizqKHDQuh",
        "outputId": "e02ca881-6215-4168-c76d-0dd2327bb0b6"
      },
      "outputs": [
        {
          "output_type": "stream",
          "name": "stdout",
          "text": [
            "+-------+---------------------+---------------------+----------------------+\n",
            "|  x_rk |         y_rk        |      y_rk_tilda     |      y_rk_delta      |\n",
            "+-------+---------------------+---------------------+----------------------+\n",
            "| 0.000 |         1.0         |         1.0         |                      |\n",
            "| 0.200 |  0.8922168123689851 |                     | 0.014891490413013601 |\n",
            "| 0.400 |  0.7766639368686797 |  0.776627643804796  |                      |\n",
            "| 0.600 |  0.662396456000368  |                     | 0.014766542811337364 |\n",
            "| 0.800 |  0.555143876134763  |  0.5551295016347355 |                      |\n",
            "| 1.000 | 0.45798041137397316 |                     | 0.012199818109093397 |\n",
            "| 1.200 | 0.37212512021698557 | 0.37213222999833456 |                      |\n",
            "| 1.400 | 0.29763575534153663 |                     | 0.009211568285463417 |\n",
            "| 1.600 | 0.23392917152172624 |  0.2339587057163833 |                      |\n",
            "| 1.800 |  0.1801385206590066 |                     | 0.006570665057326361 |\n",
            "| 2.000 | 0.13533890378468844 | 0.13539872985648788 |                      |\n",
            "+-------+---------------------+---------------------+----------------------+\n"
          ]
        },
        {
          "output_type": "display_data",
          "data": {
            "text/plain": [
              "<Figure size 640x480 with 1 Axes>"
            ],
            "image/png": "[encoded data removed]"
          },
          "metadata": {}
        }
      ],
      "source": [
        "print(table_rk)\n",
        "\n",
        "fig, ax = plt.subplots()\n",
        "plt.plot(x_rk, y_rk, \"b-o\", label=\"Runge-Kutta\")\n",
        "plt.xlabel(\"$x$\")\n",
        "plt.ylabel(\"$y$\")\n",
        "plt.legend()\n",
        "plt.grid(True)\n",
        "plt.show()"
      ]
    },
    {
      "cell_type": "markdown",
      "metadata": {
        "id": "yvr1okTEtCT_"
      },
      "source": [
        "Найти решение задачи Коши на отрезке $[a, b]$ методом Эйлера $y_{k + 1} = y_k + hf(x_k, y_k).$ Построить приближенную интегральную кривую на одном графике с предыдущим пунктом."
      ]
    },
    {
      "cell_type": "code",
      "execution_count": 10,
      "metadata": {
        "colab": {
          "base_uri": "https://localhost:8080/",
          "height": 709
        },
        "id": "GI4WeAR6CgR2",
        "outputId": "950e6ce9-6a7c-42ec-ef7e-2f15df676c18"
      },
      "outputs": [
        {
          "output_type": "stream",
          "name": "stdout",
          "text": [
            "+------+---------------------+---------------------+---------------------+\n",
            "| x_eu |         y_eu        |      y_eu_tilda     |      y_eu_delta     |\n",
            "+------+---------------------+---------------------+---------------------+\n",
            "| 0.0  |         1.0         |         1.0         |                     |\n",
            "| 0.2  |         0.9         |                     | 0.19999999999999996 |\n",
            "| 0.4  |  0.784853101271221  |         0.8         |                     |\n",
            "| 0.6  |  0.6669275144414224 |                     |  0.2425721367788496 |\n",
            "| 0.8  |  0.5544776355307033 |  0.5574278632211505 |                     |\n",
            "| 1.0  |  0.4520765652762179 |                     | 0.20603823766868334 |\n",
            "| 1.2  | 0.36166125222097434 |  0.3513896255524671 |                     |\n",
            "| 1.4  |  0.2835479019493307 |                     | 0.15226900674932078 |\n",
            "| 1.6  | 0.21719591723211146 | 0.19912061880314633 |                     |\n",
            "| 1.8  |  0.1617125045645358 |                     | 0.10387124974051841 |\n",
            "| 2.0  | 0.11615231751065652 | 0.09524936906262792 |                     |\n",
            "+------+---------------------+---------------------+---------------------+\n"
          ]
        },
        {
          "output_type": "display_data",
          "data": {
            "text/plain": [
              "<Figure size 640x480 with 1 Axes>"
            ],
            "image/png": "[encoded data removed]"
          },
          "metadata": {}
        }
      ],
      "source": [
        "print(table_eu)\n",
        "\n",
        "fig, ax = plt.subplots()\n",
        "plt.plot(x_rk, y_rk, \"b-o\", label=\"Runge-Kutta\")\n",
        "plt.plot(x_eu, y_eu, \"r-o\", label=\"Euler\")\n",
        "plt.xlabel(\"$x$\")\n",
        "plt.ylabel(\"$y$\")\n",
        "plt.legend()\n",
        "plt.grid(True)\n",
        "plt.show()"
      ]
    },
    {
      "cell_type": "markdown",
      "metadata": {
        "id": "f6V9qib2tUuZ"
      },
      "source": [
        "Найти решение задачи Коши с помощью функций Python."
      ]
    },
    {
      "cell_type": "code",
      "execution_count": 11,
      "metadata": {
        "colab": {
          "base_uri": "https://localhost:8080/",
          "height": 709
        },
        "id": "W5AAuxDztwBC",
        "outputId": "68e6cb79-e9bf-4a97-9db7-481a1cfeb0cf"
      },
      "outputs": [
        {
          "output_type": "stream",
          "name": "stdout",
          "text": [
            "+-------+---------------------+---------------------+---------------------+\n",
            "|   x   |        Эйлер        |      Рунге-Кутт     |        Python       |\n",
            "+-------+---------------------+---------------------+---------------------+\n",
            "| 0.000 |         1.0         |         1.0         |         1.0         |\n",
            "| 0.200 |         0.9         |  0.8922168123689851 |  0.8922506559235026 |\n",
            "| 0.400 |  0.784853101271221  |  0.7766639368686797 |  0.7767798412452792 |\n",
            "| 0.600 |  0.6669275144414224 |  0.662396456000368  |  0.6624115877942541 |\n",
            "| 0.800 |  0.5544776355307033 |  0.555143876134763  |  0.5551099961477508 |\n",
            "| 1.000 |  0.4520765652762179 | 0.45798041137397316 | 0.45809860767741617 |\n",
            "| 1.200 | 0.36166125222097434 | 0.37212512021698557 | 0.37223996064644543 |\n",
            "| 1.400 |  0.2835479019493307 | 0.29763575534153663 |  0.2976552410098838 |\n",
            "| 1.600 | 0.21719591723211146 | 0.23392917152172624 |  0.2338170224276924 |\n",
            "| 1.800 |  0.1617125045645358 |  0.1801385206590066 | 0.17997787344588223 |\n",
            "| 2.000 | 0.11615231751065652 | 0.13533890378468844 | 0.13520207856639263 |\n",
            "+-------+---------------------+---------------------+---------------------+\n"
          ]
        },
        {
          "output_type": "display_data",
          "data": {
            "text/plain": [
              "<Figure size 640x480 with 1 Axes>"
            ],
            "image/png": "[encoded data removed]"
          },
          "metadata": {}
        }
      ],
      "source": [
        "x_py = np.linspace(0, 2, 11)\n",
        "sol = solve_ivp(f, (0, 2), [y0], dense_output=True)\n",
        "y_py = sol.sol(x_py)[0]\n",
        "\n",
        "result_table = PrettyTable()\n",
        "result_table.add_column(\"x\", formatted_x_rk)\n",
        "result_table.add_column(\"Эйлер\", y_eu)\n",
        "result_table.add_column(\"Рунге-Кутт\", y_rk)\n",
        "result_table.add_column(\"Python\", y_py)\n",
        "\n",
        "print(result_table)\n",
        "\n",
        "plt.plot(x_rk, y_rk, \"b-o\", linewidth=2, label=\"Runge-Kutta\")\n",
        "plt.plot(x_eu, y_eu, \"r-o\", linewidth=2, label=\"Euler\")\n",
        "plt.plot(x_py, y_py,'g--o', linewidth=2, label=\"Python\")\n",
        "plt.xlabel(\"$x$\")\n",
        "plt.ylabel(\"$y$\")\n",
        "plt.legend()\n",
        "plt.grid(True)\n",
        "plt.show()"
      ]
    },
    {
      "cell_type": "markdown",
      "metadata": {
        "id": "QuY9RBkNtwVz"
      },
      "source": [
        "Найти точное решение задачи Коши. Сравнить точное решение с приближенным. Найти максимум модуля отклонений в узловых точках приближенного решения от точного."
      ]
    },
    {
      "cell_type": "code",
      "source": [
        "x = sm.symbols('x')\n",
        "y = sm.Function('y')\n",
        "equation = sm.Eq(y(x).diff(x), 0.5 * (x - 1) * sm.exp(x) * (y(x)) ** 2 - x * y(x))\n",
        "solution = sm.dsolve(equation, ics={y(0):1})\n",
        "solution"
      ],
      "metadata": {
        "colab": {
          "base_uri": "https://localhost:8080/",
          "height": 53
        },
        "id": "HB0tTW-D0LMB",
        "outputId": "cf88d777-7fe6-4ff7-c051-2d6aef33dd2e"
      },
      "execution_count": 12,
      "outputs": [
        {
          "output_type": "execute_result",
          "data": {
            "text/plain": [
              "Eq(y(x), 1/(0.5*exp(x) + 0.5*exp(0.5*x**2)))"
            ],
            "text/latex": "$\\displaystyle y{\\left(x \\right)} = \\frac{1}{0.5 e^{x} + 0.5 e^{0.5 x^{2}}}$"
          },
          "metadata": {},
          "execution_count": 12
        }
      ]
    },
    {
      "cell_type": "markdown",
      "metadata": {
        "id": "VxPoTWpkt2Fi"
      },
      "source": [
        "Все расчеты должны быть представлены в виде сводных таблиц (например, Pretty Table или Pandas)."
      ]
    }
  ],
  "metadata": {
    "colab": {
      "provenance": []
    },
    "kernelspec": {
      "display_name": "Python 3",
      "name": "python3"
    },
    "language_info": {
      "name": "python"
    }
  },
  "nbformat": 4,
  "nbformat_minor": 0
}