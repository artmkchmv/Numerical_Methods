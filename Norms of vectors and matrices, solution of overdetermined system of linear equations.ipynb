{
  "nbformat": 4,
  "nbformat_minor": 0,
  "metadata": {
    "colab": {
      "provenance": []
    },
    "kernelspec": {
      "name": "python3",
      "display_name": "Python 3"
    },
    "language_info": {
      "name": "python"
    }
  },
  "cells": [
    {
      "cell_type": "markdown",
      "source": [
        "# **Лабораторная работа «Нормы векторов и матриц, решение переопределенной системы линейных уравнений».**"
      ],
      "metadata": {
        "id": "P2W_zx_0EDoR"
      }
    },
    {
      "cell_type": "code",
      "execution_count": 1,
      "metadata": {
        "id": "GBRu7w6eC8sI"
      },
      "outputs": [],
      "source": [
        "import numpy as np\n",
        "import random\n",
        "import matplotlib.pyplot as plt\n",
        "import pandas as pd\n",
        "import math\n",
        "import copy\n",
        "from prettytable import PrettyTable"
      ]
    },
    {
      "cell_type": "markdown",
      "source": [
        "**Задание 1.** Создать квадратную матрицу из случайных вещественных\n",
        "чисел размера 10 . Найти скалярное произведение 2 строки\n",
        "на 7 столбец. Использовать срезы матриц."
      ],
      "metadata": {
        "id": "R8n8MH-EEkMD"
      }
    },
    {
      "cell_type": "code",
      "source": [
        "matrix = np.random.rand(10, 10)\n",
        "mul = np.dot(matrix[1,:], matrix[:,6])\n",
        "mul"
      ],
      "metadata": {
        "colab": {
          "base_uri": "https://localhost:8080/"
        },
        "id": "2Hzf9kcCDxQt",
        "outputId": "646f0ebb-4030-4149-bd45-55fc7426584f"
      },
      "execution_count": 2,
      "outputs": [
        {
          "output_type": "execute_result",
          "data": {
            "text/plain": [
              "3.1324088524907987"
            ]
          },
          "metadata": {},
          "execution_count": 2
        }
      ]
    },
    {
      "cell_type": "markdown",
      "source": [
        "**Задание 2.** Создать вектор-строку 1x10 из случайных целых чисел.\n",
        "Вычислить норму $\\|x\\|_4$ самостоятельно написанной функцией и проверить результат с помощью linalg.norm() в Python."
      ],
      "metadata": {
        "id": "3C5n_TSyHLfE"
      }
    },
    {
      "cell_type": "code",
      "source": [
        "x = np.array([random.random() for i in range(10)])\n",
        "x_norm = 0\n",
        "for i in range(len(x)):\n",
        "  x_norm += x[i] ** 4\n",
        "x_norm = x_norm ** 0.25\n",
        "print(\"x_norm =\", x_norm)\n",
        "print(\"x_norm_linalg.norm() =\", np.linalg.norm(x, ord=4))"
      ],
      "metadata": {
        "colab": {
          "base_uri": "https://localhost:8080/"
        },
        "id": "x8xiGdycJkos",
        "outputId": "06c46eb0-2893-48e9-86e8-bed47992bf5b"
      },
      "execution_count": 3,
      "outputs": [
        {
          "output_type": "stream",
          "name": "stdout",
          "text": [
            "x_norm = 1.255841528349616\n",
            "x_norm_linalg.norm() = 1.255841528349616\n"
          ]
        }
      ]
    },
    {
      "cell_type": "markdown",
      "source": [
        "**Задание 3.** Создать матрицу из случайных целых чисел. Найти норму\n",
        "матрицы $\\|A\\|_\\infty$ с помощью самостоятельно написанного алгоритма, проверить результат с помощью linalg.norm() в Python."
      ],
      "metadata": {
        "id": "Zn08GW6gH6H3"
      }
    },
    {
      "cell_type": "code",
      "source": [
        "def max_norm(matrix):\n",
        "    max_sum = np.sum(np.abs(matrix[0]))\n",
        "    for row in matrix[1:]:\n",
        "        row_sum = np.sum(np.abs(row))\n",
        "        if row_sum > max_sum:\n",
        "            max_sum = row_sum\n",
        "    return max_sum\n",
        "\n",
        "matrix = np.random.randint(-10, 10, (10, 10))\n",
        "print(\"A_norm =\", max_norm(matrix))\n",
        "print(\"A_linalg_norm() =\", np.linalg.norm(matrix, ord=np.inf))"
      ],
      "metadata": {
        "colab": {
          "base_uri": "https://localhost:8080/"
        },
        "id": "XkzgHUroOTOp",
        "outputId": "4f3adec8-52ed-4b36-8726-261da9765806"
      },
      "execution_count": 5,
      "outputs": [
        {
          "output_type": "stream",
          "name": "stdout",
          "text": [
            "A_norm = 60\n",
            "A_linalg_norm() = 60.0\n"
          ]
        }
      ]
    },
    {
      "cell_type": "markdown",
      "source": [
        "**Задание 4.** Найти псевдорешение системы\n",
        "\\begin{equation*}\n",
        " \\begin{cases}\n",
        "   3.3x_1 + 2.1x_2 + 2.8x_3 = 0.8\n",
        "   \\\\\n",
        "   4.1x_1 + 3.7x_2 + 4.8x_3 = 5.7\n",
        "   \\\\\n",
        "   2.7x_1 + 1.8x_2 + 1.1x_3 = 3.2\n",
        "   \\\\\n",
        "   3.15x_1 - 1.72x_2 - 1.23x_3 = 2.15\n",
        " \\end{cases}\n",
        "\\end{equation*}"
      ],
      "metadata": {
        "id": "BAzHfeAAIN41"
      }
    },
    {
      "cell_type": "code",
      "source": [
        "A = np.array([[3.3, 2.1, 2.8], [4.1, 3.7, 4.8], [2.7, 1.8, 1.1], [3.15, -1.72, -1.23]])\n",
        "B = np.array([0.8, 5.7, 3.2, 2.15])\n",
        "X = np.dot(np.dot(np.linalg.inv(np.dot(A.transpose(), A)), A.transpose()), B)\n",
        "\n",
        "C = A @ X - B\n",
        "\n",
        "norm = 0\n",
        "for i in range(len(C)):\n",
        "  norm += C[i] * C[i]\n",
        "norm = norm ** 0.5\n",
        "\n",
        "print(\"norm =\", norm)\n",
        "print(\"linalg_norm() =\", np.linalg.norm((C), ord=2))"
      ],
      "metadata": {
        "colab": {
          "base_uri": "https://localhost:8080/"
        },
        "id": "P_evJC1_rljb",
        "outputId": "d1864546-cf01-4be9-869a-56ad7dba463b"
      },
      "execution_count": 8,
      "outputs": [
        {
          "output_type": "stream",
          "name": "stdout",
          "text": [
            "norm = 2.8091700100243915\n",
            "linalg_norm() = 2.8091700100243915\n"
          ]
        }
      ]
    },
    {
      "cell_type": "markdown",
      "source": [
        "**Задание 5.** Даны пять точек: $ (-4, \\ 7), \\ (-2, \\ 1),\\ (0, \\ -3), \\ (4, \\ -8), \\ (6, \\ -9). $ Найти уравнение наиболее выгодной траектории. Построить график."
      ],
      "metadata": {
        "id": "xPej_wAbJBcY"
      }
    },
    {
      "cell_type": "markdown",
      "source": [
        "Система уравнений:\n",
        "\\begin{equation*}\n",
        " \\begin{cases}\n",
        "   -4a + b = 7\n",
        "   \\\\\n",
        "   -2a + b = 1\n",
        "   \\\\\n",
        "   0a + b = -3\n",
        "   \\\\\n",
        "   4a + b = -8\n",
        "   \\\\\n",
        "   6a + b = -9\n",
        " \\end{cases}\n",
        "\\end{equation*}"
      ],
      "metadata": {
        "id": "RDC5UGEtUFsx"
      }
    },
    {
      "cell_type": "code",
      "source": [
        "dots = np.array([[-4, 7], [-2, 1], [0, -3], [4, -8], [6, -9]])\n",
        "A = np.array([[-4, 1], [-2, 1], [0, 1], [4, 1], [6, 1]])\n",
        "B = np.array([7, 1, -3, -8, -9])\n",
        "#X = (A^T * A) ^ -1 * A^T * B\n",
        "X = np.linalg.inv(A.transpose() @ A) @ A.transpose() @ B\n",
        "x = np.linspace(-10, 10, 10000)\n",
        "y = X[0] * x + X[1]\n",
        "\n",
        "plt.figure(figsize=(12, 6))\n",
        "\n",
        "plt.plot(x, y, color='r', linewidth='2', label='y = -1.5465x - 1.16279')\n",
        "\n",
        "for i in range(5):\n",
        "  plt.scatter(dots[i][0], dots[i][1], color='blue', s=20, marker='o')\n",
        "\n",
        "plt.axhline(y=0, color='black')\n",
        "plt.axvline(x=0, color='black')\n",
        "\n",
        "plt.xticks([i for i in range(-10, 10, 1)])\n",
        "plt.yticks([i for i in range(-25, 25, 5)])\n",
        "\n",
        "plt.xlabel('x')\n",
        "plt.ylabel('y')\n",
        "\n",
        "plt.legend(loc='upper left', frameon=False)\n",
        "\n",
        "plt.grid()\n",
        "plt.show()\n",
        "print(X[0])\n",
        "print(X[1])"
      ],
      "metadata": {
        "colab": {
          "base_uri": "https://localhost:8080/",
          "height": 582
        },
        "id": "5dF0ZCs0Um4C",
        "outputId": "a710c970-d707-4e72-d231-9e9103c804ec"
      },
      "execution_count": 9,
      "outputs": [
        {
          "output_type": "display_data",
          "data": {
            "text/plain": [
              "<Figure size 1200x600 with 1 Axes>"
            ],
            "image/png": "[encoded data removed]"
          },
          "metadata": {}
        },
        {
          "output_type": "stream",
          "name": "stdout",
          "text": [
            "-1.5465116279069766\n",
            "-1.162790697674419\n"
          ]
        }
      ]
    },
    {
      "cell_type": "markdown",
      "source": [
        "**Задание 6.**\n",
        "Решить систему, используя LU разложение матрицы. LU разложение должно быть найдено самостоятельно написанной функцией, полученные матрицы выведены на экран. Придерживаться плана решения, приведенного в пособии! Решение системы должно быть проверено встроенной функцией Python.\n",
        "\\begin{equation*}\n",
        " \\begin{cases}\n",
        "   3.8x_1 + 14.2x_2 + 6.3x_3 - 15.5x_4 = 2.8\n",
        "   \\\\\n",
        "   8.3x_1 - 6.6x_2 + 5.8x_3 + 12.2x_4 = -4.7\n",
        "   \\\\\n",
        "   6.4x_1 - 8.5x_2 - 4.3x_3 + 8.8x_4 = 7.7\n",
        "   \\\\\n",
        "   17.1x_1 - 8.3x_2 + 14.4x_3 - 7.2x_4 = 13.5\n",
        "   \\\\\n",
        " \\end{cases}\n",
        "\\end{equation*}"
      ],
      "metadata": {
        "id": "BE_YfQHPJSJ-"
      }
    },
    {
      "cell_type": "code",
      "source": [
        "A = np.array([[3.8, 14.2, 6.3, -15.5], [8.3, -6.6, 5.8, 12.2], [6.4, -8.5, -4.3, 8.8], [17.1, -8.3, 14.4, -7.2]])\n",
        "B = np.array([2.8, -4.7, 7.7, 13.5])\n",
        "\n",
        "#LU-разложение\n",
        "U = np.zeros((4, 4), float)\n",
        "L = np.identity(4, float)\n",
        "for i in range(4):\n",
        "  for j in range(4):\n",
        "    if i <= j:\n",
        "      U[i, j] = A[i, j] - np.dot(L[i, :i], U[:i, j])\n",
        "    else:\n",
        "      L[i, j] = (A[i, j] - np.dot(L[i, :j], U[:j, j])) / U[j, j]\n",
        "\n",
        "#LY = B (метод прямой подстановки)\n",
        "Y = np.zeros((4, 1), float)\n",
        "Y[0] = B[0]\n",
        "for i in range(1, 4):\n",
        "  Y[i] = B[i] - np.dot(L[i, :i], Y[:i])\n",
        "\n",
        "#UX = Y (метод обратной подстановки)\n",
        "X = np.zeros(np.size(B), float)\n",
        "X[-1] = Y[-1] / U[-1, -1]\n",
        "for i in range(2, -1, -1):\n",
        "  X[i] = (Y[i] - np.sum(U[i, i + 1:] * X[i + 1:])) / U[i, i]\n",
        "\n",
        "#NumPy Solve\n",
        "X_linalg_solve = np.linalg.solve(A, B)\n",
        "\n",
        "print(X)\n",
        "print(X_linalg_solve)"
      ],
      "metadata": {
        "colab": {
          "base_uri": "https://localhost:8080/"
        },
        "id": "chWRRANDY3nW",
        "outputId": "d735fc88-8bfd-41d2-aa21-846e4486230c"
      },
      "execution_count": 10,
      "outputs": [
        {
          "output_type": "stream",
          "name": "stdout",
          "text": [
            "[ 0.97086337 -0.58975751 -1.0000204  -0.88938092]\n",
            "[ 0.97086337 -0.58975751 -1.0000204  -0.88938092]\n"
          ]
        },
        {
          "output_type": "stream",
          "name": "stderr",
          "text": [
            "<ipython-input-10-91ac1b225ad3>:22: DeprecationWarning: Conversion of an array with ndim > 0 to a scalar is deprecated, and will error in future. Ensure you extract a single element from your array before performing this operation. (Deprecated NumPy 1.25.)\n",
            "  X[-1] = Y[-1] / U[-1, -1]\n",
            "<ipython-input-10-91ac1b225ad3>:24: DeprecationWarning: Conversion of an array with ndim > 0 to a scalar is deprecated, and will error in future. Ensure you extract a single element from your array before performing this operation. (Deprecated NumPy 1.25.)\n",
            "  X[i] = (Y[i] - np.sum(U[i, i + 1:] * X[i + 1:])) / U[i, i]\n"
          ]
        }
      ]
    },
    {
      "cell_type": "markdown",
      "source": [
        "**Задание 7.** Решить систему из пункта 2 с помощью QR разложения\n",
        "матрицы А. QR разложение найти методом Хаусхолдера.\n",
        "Придерживаться плана решения, приведенного в пособии!\n",
        "Проверить полученное решение непосредственной\n",
        "подстановкой в исходную систему, а также методом\n",
        "np.solve."
      ],
      "metadata": {
        "id": "gHeCJDineV9S"
      }
    },
    {
      "cell_type": "code",
      "source": [
        "A = np.array([[3.8, 14.2, 6.3, -15.5], [8.3, -6.6, 5.8, 12.2], [6.4, -8.5, -4.3, 8.8], [17.1, -8.3, 14.4, -7.2]])\n",
        "B = np.array([2.8, -4.7, 7.7, 13.5])\n",
        "\n",
        "#QR разложение (метод Хаусхолдера)\n",
        "(r, c) = np.shape(A)\n",
        "Q = np.identity(r)\n",
        "R = np.copy(A)\n",
        "for i in range(r - 1):\n",
        "  x = R[i:, i]\n",
        "  e = np.zeros_like(x)\n",
        "  e[0] = np.linalg.norm(x)\n",
        "  u = x - e\n",
        "  v = u / np.linalg.norm(u)\n",
        "  Q_i = np.identity(r)\n",
        "  Q_i[i:, i:] -= 2.0 * np.outer(v, v)\n",
        "  R = np.dot(Q_i, R)\n",
        "  Q = np.dot(Q, Q_i)\n",
        "\n",
        "#RX = Y\n",
        "Y = np.dot(Q.transpose(), B)\n",
        "\n",
        "#RX = Y (метод обратной подстановки)\n",
        "X = np.zeros(np.size(Y), float)\n",
        "X[-1] = Y[-1] / R[-1, -1]\n",
        "for i in range(2, -1, -1):\n",
        "  X[i] = (Y[i] - np.sum(R[i, i + 1:] * X[i + 1:])) / R[i, i]\n",
        "\n",
        "print(X)\n",
        "print(np.linalg.solve(A, B))\n"
      ],
      "metadata": {
        "colab": {
          "base_uri": "https://localhost:8080/"
        },
        "id": "fEDgLlHihXOc",
        "outputId": "48f0e41c-e736-4984-e607-f36fe7d345df"
      },
      "execution_count": 11,
      "outputs": [
        {
          "output_type": "stream",
          "name": "stdout",
          "text": [
            "[ 0.97086337 -0.58975751 -1.0000204  -0.88938092]\n",
            "[ 0.97086337 -0.58975751 -1.0000204  -0.88938092]\n"
          ]
        }
      ]
    },
    {
      "cell_type": "markdown",
      "source": [
        "**Задание 8.** Решить систему методом простых итераций с точностью\n",
        "до $ 10^{-3} $. Проверить выполнение достаточного условия\n",
        "сходимости. Если условие не выполняется, в программе\n",
        "выполнить эквивалентные преобразования системы, после\n",
        "этого привести к удобному для итераций виду. Оформить\n",
        "итерации в виде таблицы (можно пользоваться модулями\n",
        "PrettyTable или Pandas). Проверить полученное решение.\n",
        "\\begin{equation*}\n",
        " \\begin{cases}\n",
        "   7.3x_1 + 2.1x_2 + 2.8x_3 = 0.8\n",
        "   \\\\\n",
        "   8.3x_1 + 8.7x_2 + 4.8x_3 = 5.7\n",
        "   \\\\\n",
        "   2.7x_1 + 1.8x_2 + 9.1x_3 = 3.2\n",
        "   \\\\\n",
        " \\end{cases}\n",
        "\\end{equation*}"
      ],
      "metadata": {
        "id": "9qVElLPFebyc"
      }
    },
    {
      "cell_type": "code",
      "source": [
        "# С учетом диагонального преобладания: 2 строка - 1 строка\n",
        "A = np.array([[7.3, 2.1, 2.8], [1, 6.6, 2], [2.7, 1.8, 9.1]])\n",
        "B = np.array([0.8, 4.9, 3.2])\n",
        "\n",
        "def Jacobi(A, B):\n",
        "  iter_list = []\n",
        "  x1_list = []\n",
        "  x2_list = []\n",
        "  x3_list = []\n",
        "  norm_list = []\n",
        "  num = len(B)\n",
        "  x = np.ones((3,), dtype=float)\n",
        "  for i in range(20):\n",
        "    iter_list.append(i)\n",
        "    x_prev = copy.deepcopy(x)\n",
        "    for k in range(0, num):\n",
        "      s = 0\n",
        "      for j in range(0, num):\n",
        "        if j != k:\n",
        "          s += A[k][j] * x[j]\n",
        "        x[k] = B[k] / A[k][k] - s / A[k][k]\n",
        "      if k == 0:\n",
        "        x1_list.append(x[k])\n",
        "      elif k == 1:\n",
        "        x2_list.append(x[k])\n",
        "      elif k == 2:\n",
        "        x3_list.append(x[k])\n",
        "\n",
        "    x_old = x_prev\n",
        "    x_new = x\n",
        "    eps = 0.001\n",
        "\n",
        "    norm = np.linalg.norm((x_new - x_old), ord=np.inf)\n",
        "    norm_list.append(norm)\n",
        "    if norm < eps:\n",
        "      break\n",
        "\n",
        "  result_table = PrettyTable()\n",
        "  result_table.add_column('k', iter_list)\n",
        "  result_table.add_column('x1', x1_list)\n",
        "  result_table.add_column('x2', x2_list)\n",
        "  result_table.add_column('x3', x3_list)\n",
        "  result_table.add_column('norm', norm_list)\n",
        "\n",
        "  print(result_table)\n",
        "\n",
        "Jacobi(A, B)\n",
        "print(np.linalg.solve(A, B))"
      ],
      "metadata": {
        "colab": {
          "base_uri": "https://localhost:8080/"
        },
        "id": "GG8ckPyRvTVp",
        "outputId": "fdf3453a-f233-424c-d3bf-49a028656d0b"
      },
      "execution_count": 12,
      "outputs": [
        {
          "output_type": "stream",
          "name": "stdout",
          "text": [
            "+---+----------------------+--------------------+---------------------+------------------------+\n",
            "| k |          x1          |         x2         |          x3         |          norm          |\n",
            "+---+----------------------+--------------------+---------------------+------------------------+\n",
            "| 0 | -0.5616438356164384  | 0.524491490244915  |  0.4145443597498392 |   1.5616438356164384   |\n",
            "| 1 | -0.20029538860463997 | 0.647152525621964  |  0.2830684618805487 |   0.3613484470117984   |\n",
            "| 2 | -0.18515232836598094 | 0.6846993037280128 | 0.27114863075579404 |  0.037546778106048784  |\n",
            "| 3 | -0.1913814662938425  | 0.689255182542766  |  0.2720956736721315 |  0.006229137927861561  |\n",
            "| 4 | -0.19305531090709271 | 0.6892218126610349 |  0.2725989095229987 | 0.0016738446132502083  |\n",
            "| 5 | -0.19323873332226982 | 0.6890971082236778 |  0.2726779983700559 | 0.00018342241517710356 |\n",
            "+---+----------------------+--------------------+---------------------+------------------------+\n",
            "[-0.19322619  0.68907079  0.27267948]\n"
          ]
        }
      ]
    }
  ]
}