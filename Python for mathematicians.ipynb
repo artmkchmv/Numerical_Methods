{
  "cells": [
    {
      "cell_type": "markdown",
      "metadata": {
        "id": "gPOk0ylD0Bc9"
      },
      "source": [
        "# **Лабораторная работа «Python для математиков».**"
      ]
    },
    {
      "cell_type": "code",
      "execution_count": 2,
      "metadata": {
        "id": "11F2n84D0Bcz"
      },
      "outputs": [],
      "source": [
        "import math\n",
        "import numpy as np\n",
        "import matplotlib.pyplot as plt\n",
        "import scipy as sp\n",
        "from scipy import integrate\n",
        "import sympy as sm\n",
        "from sympy import *"
      ]
    },
    {
      "cell_type": "markdown",
      "metadata": {
        "id": "JCDQMYKL0BdD"
      },
      "source": [
        "**Задание 1.** Вычислить определитель: $$ \\begin{vmatrix}\n",
        "  2 & 3 & -4 & 3\\\\\n",
        "  2 & 0 & 3 & 1 \\\\\n",
        "  2 & 2 & -1 & 3 \\\\\n",
        "  4 & 6 & 2 & 5\n",
        "\\end{vmatrix}$$"
      ]
    },
    {
      "cell_type": "code",
      "execution_count": 3,
      "metadata": {
        "id": "59qC451t0BdE",
        "colab": {
          "base_uri": "https://localhost:8080/"
        },
        "outputId": "228d48d2-5d32-456c-c7e9-3465a91f5197"
      },
      "outputs": [
        {
          "output_type": "execute_result",
          "data": {
            "text/plain": [
              "43.99999999999999"
            ]
          },
          "metadata": {},
          "execution_count": 3
        }
      ],
      "source": [
        "A = np.array([[2, 3, -4, 3], [2, 0, 3, 1], [2, 2, -1, 3], [4, 6, 2, 5]])\n",
        "np.linalg.det(A)"
      ]
    },
    {
      "cell_type": "markdown",
      "source": [
        "**Задание 2.** Выполнить умножение матриц:\n",
        "$$ \\begin{pmatrix}\n",
        "3 & 2 & 1\\\\\n",
        "\\end{pmatrix}\n",
        "\\begin{pmatrix}\n",
        "2 & 1 & 3\\\\\n",
        "0 & 4 & 2\\\\\n",
        "1 & 4 & -3\n",
        "\\end{pmatrix} $$"
      ],
      "metadata": {
        "id": "xO-xlGPU-lC5"
      }
    },
    {
      "cell_type": "code",
      "execution_count": 5,
      "metadata": {
        "colab": {
          "base_uri": "https://localhost:8080/"
        },
        "id": "sj0blCLI0BdK",
        "outputId": "2eb6a76e-30fb-428a-c8b2-5d0cfdf64571"
      },
      "outputs": [
        {
          "output_type": "execute_result",
          "data": {
            "text/plain": [
              "array([ 7, 15, 10])"
            ]
          },
          "metadata": {},
          "execution_count": 5
        }
      ],
      "source": [
        "B = np.array([3, 2, 1], int)\n",
        "C = np.array([[2, 1, 3], [0, 4, 2], [1, 4, -3]], int)\n",
        "np.dot(B, C)"
      ]
    },
    {
      "cell_type": "markdown",
      "source": [
        "**Задание 3.** Решить систему уравнений:\n",
        "\\begin{equation*}\n",
        " \\begin{cases}\n",
        "   3x_1 + x_2 + x_3 = 5\n",
        "   \\\\\n",
        "   -2x_1 + 3x_2 + 4x_3 = 5\n",
        "   \\\\\n",
        "   3x_1 + 2x_2 - 3x_3 = 2\n",
        " \\end{cases}\n",
        "\\end{equation*}"
      ],
      "metadata": {
        "id": "BWL7d6FA-_lk"
      }
    },
    {
      "cell_type": "code",
      "execution_count": 6,
      "metadata": {
        "colab": {
          "base_uri": "https://localhost:8080/"
        },
        "id": "Jwns-nyB0BdN",
        "outputId": "3d817417-b20a-4bd4-dbbd-d355eb6f0d5d"
      },
      "outputs": [
        {
          "output_type": "execute_result",
          "data": {
            "text/plain": [
              "array([1., 1., 1.])"
            ]
          },
          "metadata": {},
          "execution_count": 6
        }
      ],
      "source": [
        "M2 = np.array([[3, 1, 1], [-2, 3, 4], [3, 2, -3]], int)\n",
        "v2 = np.array([5, 5, 2], int)\n",
        "np.linalg.solve(M2, v2)"
      ]
    },
    {
      "cell_type": "markdown",
      "metadata": {
        "id": "ilcWE-Ws0BdP"
      },
      "source": [
        "**Задание 4.** Вычислите интеграл: $$\\int  {\\frac {4+3x} {x^2-4x+3}} dx$$"
      ]
    },
    {
      "cell_type": "code",
      "execution_count": 8,
      "metadata": {
        "colab": {
          "base_uri": "https://localhost:8080/",
          "height": 53
        },
        "id": "L2sBIsOy0BdQ",
        "outputId": "0789324c-fc2a-4678-ade1-2c856d943641"
      },
      "outputs": [
        {
          "output_type": "execute_result",
          "data": {
            "text/plain": [
              "13*log(x - 3)/2 - 7*log(x - 1)/2"
            ],
            "text/latex": "$\\displaystyle \\frac{13 \\log{\\left(x - 3 \\right)}}{2} - \\frac{7 \\log{\\left(x - 1 \\right)}}{2}$"
          },
          "metadata": {},
          "execution_count": 8
        }
      ],
      "source": [
        "x = sm.symbols('x')\n",
        "sm.integrate((4 + 3 * x) / (x ** 2 - 4 * x + 3), x)"
      ]
    },
    {
      "cell_type": "markdown",
      "metadata": {
        "id": "MkEc00m80BdR"
      },
      "source": [
        "**Задание 5.** Найти частные производные первого и второго порядка $$ z = (x^2 - 2xy)\\sin(x + y) $$"
      ]
    },
    {
      "cell_type": "code",
      "source": [
        "x, y = sm.symbols(\"x, y\")\n",
        "z = ((x ** 2 - 2 * x * y) * sm.sin(x + y))\n",
        "dz_dx = diff(z, x)\n",
        "dz_dy = diff(z, y)\n",
        "d2z_dx2 = diff(dz_dx, x)\n",
        "d2z_dy2 = diff(dz_dy, y)\n",
        "d2z_dxdy = diff(dz_dx, y)"
      ],
      "metadata": {
        "id": "x6YQi1bU7KOb"
      },
      "execution_count": 11,
      "outputs": []
    },
    {
      "cell_type": "code",
      "source": [
        "dz_dx"
      ],
      "metadata": {
        "colab": {
          "base_uri": "https://localhost:8080/",
          "height": 39
        },
        "id": "zRnhfT_HUUHX",
        "outputId": "e8ed3dfd-ab40-490a-863e-b6773b204b64"
      },
      "execution_count": 12,
      "outputs": [
        {
          "output_type": "execute_result",
          "data": {
            "text/plain": [
              "(2*x - 2*y)*sin(x + y) + (x**2 - 2*x*y)*cos(x + y)"
            ],
            "text/latex": "$\\displaystyle \\left(2 x - 2 y\\right) \\sin{\\left(x + y \\right)} + \\left(x^{2} - 2 x y\\right) \\cos{\\left(x + y \\right)}$"
          },
          "metadata": {},
          "execution_count": 12
        }
      ]
    },
    {
      "cell_type": "code",
      "source": [
        "dz_dy"
      ],
      "metadata": {
        "colab": {
          "base_uri": "https://localhost:8080/",
          "height": 39
        },
        "id": "JHQlqhM9VHm3",
        "outputId": "40268040-127d-4aac-a11f-a8bb8da0417f"
      },
      "execution_count": 13,
      "outputs": [
        {
          "output_type": "execute_result",
          "data": {
            "text/plain": [
              "-2*x*sin(x + y) + (x**2 - 2*x*y)*cos(x + y)"
            ],
            "text/latex": "$\\displaystyle - 2 x \\sin{\\left(x + y \\right)} + \\left(x^{2} - 2 x y\\right) \\cos{\\left(x + y \\right)}$"
          },
          "metadata": {},
          "execution_count": 13
        }
      ]
    },
    {
      "cell_type": "code",
      "source": [
        "d2z_dx2"
      ],
      "metadata": {
        "colab": {
          "base_uri": "https://localhost:8080/",
          "height": 39
        },
        "id": "w9xonEgfVJ7P",
        "outputId": "f7770bdb-8052-4c99-a752-08831534fbc5"
      },
      "execution_count": 14,
      "outputs": [
        {
          "output_type": "execute_result",
          "data": {
            "text/plain": [
              "2*(2*x - 2*y)*cos(x + y) - (x**2 - 2*x*y)*sin(x + y) + 2*sin(x + y)"
            ],
            "text/latex": "$\\displaystyle 2 \\left(2 x - 2 y\\right) \\cos{\\left(x + y \\right)} - \\left(x^{2} - 2 x y\\right) \\sin{\\left(x + y \\right)} + 2 \\sin{\\left(x + y \\right)}$"
          },
          "metadata": {},
          "execution_count": 14
        }
      ]
    },
    {
      "cell_type": "code",
      "source": [
        "d2z_dy2"
      ],
      "metadata": {
        "colab": {
          "base_uri": "https://localhost:8080/",
          "height": 39
        },
        "id": "RuobsQzkVLTZ",
        "outputId": "9389c5d3-0ba3-4d1c-b9f1-8fe1c94b4e9a"
      },
      "execution_count": 15,
      "outputs": [
        {
          "output_type": "execute_result",
          "data": {
            "text/plain": [
              "-4*x*cos(x + y) - (x**2 - 2*x*y)*sin(x + y)"
            ],
            "text/latex": "$\\displaystyle - 4 x \\cos{\\left(x + y \\right)} - \\left(x^{2} - 2 x y\\right) \\sin{\\left(x + y \\right)}$"
          },
          "metadata": {},
          "execution_count": 15
        }
      ]
    },
    {
      "cell_type": "code",
      "source": [
        "d2z_dxdy"
      ],
      "metadata": {
        "colab": {
          "base_uri": "https://localhost:8080/",
          "height": 39
        },
        "id": "jBAKvLg0VNI7",
        "outputId": "11ae910c-41be-4863-ce6b-27b99e91ee94"
      },
      "execution_count": 16,
      "outputs": [
        {
          "output_type": "execute_result",
          "data": {
            "text/plain": [
              "-2*x*cos(x + y) + (2*x - 2*y)*cos(x + y) - (x**2 - 2*x*y)*sin(x + y) - 2*sin(x + y)"
            ],
            "text/latex": "$\\displaystyle - 2 x \\cos{\\left(x + y \\right)} + \\left(2 x - 2 y\\right) \\cos{\\left(x + y \\right)} - \\left(x^{2} - 2 x y\\right) \\sin{\\left(x + y \\right)} - 2 \\sin{\\left(x + y \\right)}$"
          },
          "metadata": {},
          "execution_count": 16
        }
      ]
    },
    {
      "cell_type": "markdown",
      "metadata": {
        "id": "kRE3jGs50BdS"
      },
      "source": [
        "**Задание 6.** Решить дифференциальное уравнение: $$ (x + 2y)dx - xdy = 0 $$"
      ]
    },
    {
      "cell_type": "code",
      "execution_count": 18,
      "metadata": {
        "id": "4DDxw2cn0BdT",
        "colab": {
          "base_uri": "https://localhost:8080/",
          "height": 62
        },
        "outputId": "8b97c42e-4919-4182-ab0d-de73e6a11c25"
      },
      "outputs": [
        {
          "output_type": "execute_result",
          "data": {
            "text/plain": [
              "Eq(y(x), -exp(-0.5*x**2)/(C1 + 0.5*Integral(exp(1.0*x)*exp(-0.5*x**2), x) + 0.5*Integral(x*exp(1.0*x)*exp(-0.5*x**2), x)))"
            ],
            "text/latex": "$\\displaystyle y{\\left(x \\right)} = - \\frac{e^{- 0.5 x^{2}}}{C_{1} + 0.5 \\int e^{1.0 x} e^{- 0.5 x^{2}}\\, dx + 0.5 \\int x e^{1.0 x} e^{- 0.5 x^{2}}\\, dx}$"
          },
          "metadata": {},
          "execution_count": 18
        }
      ],
      "source": [
        "x = sm.symbols('x')\n",
        "y = sm.Function('y')\n",
        "equation = sm.Eq(y(x).diff(x), (0.5 * (x + 1) * sm.exp(x) * y(x) ** 2 - x * y(x)))\n",
        "solution = sm.dsolve(equation)\n",
        "solution"
      ]
    },
    {
      "cell_type": "markdown",
      "metadata": {
        "id": "itbpJmE90BdU"
      },
      "source": [
        "**Задание 7.** Вычисление кратного интеграла:\n",
        "$$ \\int\\limits_{-1}^1 dy \\int\\limits_{2y}^y (3x+2y)e^y\\,dx $$"
      ]
    },
    {
      "cell_type": "code",
      "execution_count": 20,
      "metadata": {
        "colab": {
          "base_uri": "https://localhost:8080/"
        },
        "id": "rWz2DLfE0BdU",
        "outputId": "d856ab51-20b6-4756-f8f3-67f3e47f07cf"
      },
      "outputs": [
        {
          "output_type": "execute_result",
          "data": {
            "text/plain": [
              "-5.7127500469119195"
            ]
          },
          "metadata": {},
          "execution_count": 20
        }
      ],
      "source": [
        "def f(x, y):\n",
        "    return (3 * x + 2 * y) * sm.exp(y)\n",
        "def h(y):\n",
        "    return y\n",
        "def g(y):\n",
        "    return 2 * y\n",
        "v, err = sp.integrate.dblquad(f, -1, 1, g, h)\n",
        "v"
      ]
    },
    {
      "cell_type": "markdown",
      "metadata": {
        "id": "Avwh15x00BdW"
      },
      "source": [
        "**Задание 8.** Построить графики функций: $$ y = ln(5 - x) $$  $$ y = 3|x + 2| $$\n"
      ]
    },
    {
      "cell_type": "code",
      "source": [
        "x = np.linspace(-10, 5, 10000)\n",
        "y1 = np.log(5 - x)\n",
        "y2 = 3 * np.abs(x + 2)\n",
        "\n",
        "plt.figure(figsize=(12, 6))\n",
        "\n",
        "plt.plot(x, y1, label='y = ln(5 - x)', color='b', linewidth='2')\n",
        "plt.plot(x, y2, label='y = 3|x + 2|', color='r', linewidth='2')\n",
        "\n",
        "plt.axhline(y=0, color='black')\n",
        "plt.axvline(x=0, color='black')\n",
        "\n",
        "plt.xticks([i for i in range(-10, 5, 1)])\n",
        "plt.yticks([i for i in range(-5, 25, 5)])\n",
        "\n",
        "plt.xlabel('x')\n",
        "plt.ylabel('y')\n",
        "\n",
        "plt.legend(loc='upper left', frameon=False)\n",
        "\n",
        "plt.grid()\n",
        "plt.show()"
      ],
      "metadata": {
        "colab": {
          "base_uri": "https://localhost:8080/",
          "height": 577
        },
        "id": "cFXxbyLSWfYX",
        "outputId": "0d3e5117-9703-4d2d-d12d-82a29bf5547f"
      },
      "execution_count": 21,
      "outputs": [
        {
          "output_type": "stream",
          "name": "stderr",
          "text": [
            "<ipython-input-21-c80887dc60f9>:2: RuntimeWarning: divide by zero encountered in log\n",
            "  y1 = np.log(5 - x)\n"
          ]
        },
        {
          "output_type": "display_data",
          "data": {
            "text/plain": [
              "<Figure size 1200x600 with 1 Axes>"
            ],
            "image/png": "[encoded data removed]"
          },
          "metadata": {}
        }
      ]
    }
  ],
  "metadata": {
    "kernelspec": {
      "display_name": "Python 3",
      "language": "python",
      "name": "python3"
    },
    "language_info": {
      "codemirror_mode": {
        "name": "ipython",
        "version": 3
      },
      "file_extension": ".py",
      "mimetype": "text/x-python",
      "name": "python",
      "nbconvert_exporter": "python",
      "pygments_lexer": "ipython3",
      "version": "3.8.5"
    },
    "colab": {
      "provenance": []
    }
  },
  "nbformat": 4,
  "nbformat_minor": 0
}